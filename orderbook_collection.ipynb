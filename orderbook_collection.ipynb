{
  "nbformat": 4,
  "nbformat_minor": 0,
  "metadata": {
    "colab": {
      "provenance": [],
      "include_colab_link": true
    },
    "kernelspec": {
      "name": "python3",
      "display_name": "Python 3"
    },
    "language_info": {
      "name": "python"
    }
  },
  "cells": [
    {
      "cell_type": "markdown",
      "metadata": {
        "id": "view-in-github",
        "colab_type": "text"
      },
      "source": [
        "<a href=\"https://colab.research.google.com/github/rlawlgid/jihyang/blob/main/orderbook_collection.ipynb\" target=\"_parent\"><img src=\"https://colab.research.google.com/assets/colab-badge.svg\" alt=\"Open In Colab\"/></a>"
      ]
    },
    {
      "cell_type": "code",
      "source": [
        "import time\n",
        "import requests\n",
        "import pandas as pd\n",
        "import csv\n",
        "\n",
        "import os\n",
        "from datetime import datetime\n",
        "from pytz import timezone\n",
        "\n",
        "# colab 사용 시, data 저장하기 위해 driver mounting\n",
        "from google.colab import drive\n",
        "drive.mount('/content/drive')"
      ],
      "metadata": {
        "colab": {
          "base_uri": "https://localhost:8080/"
        },
        "id": "M0hKiM1hVqW9",
        "outputId": "1650eb26-60be-462a-9eac-a4cceb2da4c7"
      },
      "execution_count": null,
      "outputs": [
        {
          "output_type": "stream",
          "name": "stdout",
          "text": [
            "Drive already mounted at /content/drive; to attempt to forcibly remount, call drive.mount(\"/content/drive\", force_remount=True).\n"
          ]
        }
      ]
    },
    {
      "cell_type": "code",
      "source": [
        "# working directory\n",
        "print(os.getcwd())\n",
        "\n",
        "# data 저장할 디렉토리 생성\n",
        "file_path = \"/content/drive/MyDrive/jh_assignment/data\"\n",
        "columns = [\"price\", \"quantity\", \"type\", \"timestamp\"]\n",
        "if (not os.path.isdir(file_path)):\n",
        "    os.mkdir(file_path)"
      ],
      "metadata": {
        "colab": {
          "base_uri": "https://localhost:8080/"
        },
        "id": "RnTjZNC_pSWT",
        "outputId": "079f121d-ab4b-479e-b207-1285af1e6aee"
      },
      "execution_count": null,
      "outputs": [
        {
          "output_type": "stream",
          "name": "stdout",
          "text": [
            "/content\n"
          ]
        }
      ]
    },
    {
      "cell_type": "code",
      "source": [
        "def orderbook_collection():\n",
        "    book = {}\n",
        "    response = requests.get('https://api.bithumb.com/public/orderbook/BTC_KRW/?count=5')\n",
        "    book = response.json()\n",
        "    data = book['data']\n",
        "\n",
        "    #\n",
        "    bids = (pd.DataFrame(data['bids'])).apply(pd.to_numeric,errors='ignore')\n",
        "    bids.sort_values('price', ascending=True, inplace=True)\n",
        "    bids = bids.reset_index()\n",
        "    del bids['index']\n",
        "    bids['type'] = 0\n",
        "\n",
        "    asks = (pd.DataFrame(data['asks'])).apply(pd.to_numeric,errors='ignore')\n",
        "    asks.sort_values('price', ascending=True, inplace=True)\n",
        "    asks['type'] = 1\n",
        "\n",
        "    df = pd.concat([bids, asks])\n",
        "\n",
        "    # Make a timestamp\n",
        "    # timestamp_now = datetime.now()  # UTC\n",
        "    timestamp_now = datetime.now(timezone('Asia/Seoul'))\n",
        "    df['timestamp'] = timestamp_now\n",
        "\n",
        "    # Save data as csv file\n",
        "    file_name = f\"{timestamp_now.strftime('%Y-%m-%d')}-exchange-market-orderbook.csv\"\n",
        "    if (not os.path.exists(f\"{file_path}/{file_name}\")):\n",
        "      df.to_csv(f\"{file_path}/{file_name}\", columns=columns, sep=',', index=False)\n",
        "    else:\n",
        "      df.to_csv(f\"{file_path}/{file_name}\", header=False ,sep=',', index=False, mode='a')\n",
        "\n",
        "    # Sleep 1 second\n",
        "    time.sleep(1)\n",
        "\n",
        "\n",
        "for i in range(100):\n",
        "  orderbook_collection()\n"
      ],
      "metadata": {
        "id": "PCTOOxOOQAQd"
      },
      "execution_count": null,
      "outputs": []
    },
    {
      "cell_type": "code",
      "source": [
        "import time\n",
        "import requests\n",
        "import pandas as pd\n",
        "import csv\n",
        "\n",
        "import os\n",
        "from datetime import datetime\n",
        "from pytz import timezone\n",
        "\n",
        "\"\"\"\n",
        "  데이터를 저장하기 위한 경로 생성\n",
        "\"\"\"\n",
        "# working directory\n",
        "current_path = os.getcwd()\n",
        "file_path = f\"{current_path}/jh_assignment/data\"\n",
        "\n",
        "# Make a directory\n",
        "if (not os.path.isdir(f\"{current_path}/jh_assignment\")):\n",
        "    os.mkdir(f\"{current_path}/jh_assignment\")\n",
        "if (not os.path.isdir(file_path)):\n",
        "    os.mkdir(file_path)\n",
        "\n",
        "\"\"\"\n",
        "  orderbook 데이터를 파일에 저장하는 함수\n",
        "\"\"\"\n",
        "# csv 파일 컬럼명\n",
        "columns = [\"price\", \"quantity\", \"type\", \"timestamp\"]\n",
        "# Orberbook Collection method\n",
        "def orderbook_collection():\n",
        "    book = {}\n",
        "    response = requests.get('https://api.bithumb.com/public/orderbook/BTC_KRW/?count=5')\n",
        "    book = response.json()\n",
        "    data = book['data']\n",
        "\n",
        "    # orderbook response 에 있는 bids, asks 데이터 추출 및 정렬\n",
        "    bids = (pd.DataFrame(data['bids'])).apply(pd.to_numeric,errors='ignore')\n",
        "    asks = (pd.DataFrame(data['asks'])).apply(pd.to_numeric,errors='ignore')\n",
        "    bids.sort_values('price', ascending=True, inplace=True)\n",
        "    asks.sort_values('price', ascending=True, inplace=True)\n",
        "    bids = bids.reset_index()\n",
        "    del bids['index']\n",
        "    # type 값 할당 (bids=0, asks=1)\n",
        "    bids['type'], asks['type'] = 0, 1\n",
        "\n",
        "    # bids, asks 데이터 합치기\n",
        "    df = pd.concat([bids, asks])\n",
        "\n",
        "    # 현재 시간 구하기\n",
        "    timestamp_now = datetime.now()\n",
        "    df['timestamp'] = timestamp_now\n",
        "\n",
        "    # 파일 이름 생성\n",
        "    file_name = f\"{timestamp_now.strftime('%Y-%m-%d')}-exchange-market-orderbook.csv\"\n",
        "\n",
        "    # orderbook 데이터 csv에 파일에 저장\n",
        "    # if -> 파일이 없는 경우, 새로운 파일에 저장\n",
        "    if (not os.path.exists(f\"{file_path}/{file_name}\")):\n",
        "      df.to_csv(f\"{file_path}/{file_name}\", columns=columns, sep=',', index=False)\n",
        "    # else -> 이미 파일이 있는 경우, 데이터 추가\n",
        "    else:\n",
        "      df.to_csv(f\"{file_path}/{file_name}\", header=False ,sep=',', index=False, mode='a')\n",
        "\n",
        "    # Sleep 1 second\n",
        "    time.sleep(1)\n",
        "\n",
        "\n",
        "# 계속 orderbook_collection 함수 호출 (조건이 True이기 때문에)\n",
        "while(True):\n",
        "    orderbook_collection()"
      ],
      "metadata": {
        "id": "uYONxd86GUIw"
      },
      "execution_count": null,
      "outputs": []
    }
  ]
}